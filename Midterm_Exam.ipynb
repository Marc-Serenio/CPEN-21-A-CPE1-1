{
  "nbformat": 4,
  "nbformat_minor": 0,
  "metadata": {
    "colab": {
      "name": "Midterm Exam.ipynb",
      "provenance": [],
      "authorship_tag": "ABX9TyM5hHJZwf8rr94hmsVz/4ET",
      "include_colab_link": true
    },
    "kernelspec": {
      "name": "python3",
      "display_name": "Python 3"
    },
    "language_info": {
      "name": "python"
    }
  },
  "cells": [
    {
      "cell_type": "markdown",
      "metadata": {
        "id": "view-in-github",
        "colab_type": "text"
      },
      "source": [
        "<a href=\"https://colab.research.google.com/github/Marc-Serenio/CPEN-21-A-CPE1-1/blob/main/Midterm_Exam.ipynb\" target=\"_parent\"><img src=\"https://colab.research.google.com/assets/colab-badge.svg\" alt=\"Open In Colab\"/></a>"
      ]
    },
    {
      "cell_type": "markdown",
      "metadata": {
        "id": "3cwBflsxMxuv"
      },
      "source": [
        "###Problem Statement 1"
      ]
    },
    {
      "cell_type": "code",
      "metadata": {
        "colab": {
          "base_uri": "https://localhost:8080/"
        },
        "id": "HOW-hdVkHmGm",
        "outputId": "4dd4ac37-8249-4d65-80f7-dcac65a9cce6"
      },
      "source": [
        "name = (\"Marc Jay D. Serenio\")\n",
        "studentnumber=(\"202102057\")\n",
        "age = (\"19\")\n",
        "birthday = (\"October 19, 2002\")\n",
        "address = (\"Blk 20, L9 Brgy. Lumbreras GMA, Cavite\")\n",
        "course = (\"BSCpE 1-1\")\n",
        "GWA = (\"N/A\")\n",
        "print(\"name: {}\\nstudentnumber: {}\\nage: {}\\nbirthday: {}\\naddress: {}\\ncourse: {}\\nGWA :{}\".format(name,studentnumber, age, birthday, address,course,GWA))"
      ],
      "execution_count": 73,
      "outputs": [
        {
          "output_type": "stream",
          "name": "stdout",
          "text": [
            "name: Marc Jay D. Serenio\n",
            "studentnumber: 202102057\n",
            "age: 19\n",
            "birthday: October 19, 2002\n",
            "address: Blk 20, L9 Brgy. Lumbreras GMA, Cavite\n",
            "course: BSCpE 1-1\n",
            "GWA :N/A\n"
          ]
        }
      ]
    },
    {
      "cell_type": "markdown",
      "metadata": {
        "id": "UG1O_ahoMwei"
      },
      "source": [
        "###Problem Statement 2"
      ]
    },
    {
      "cell_type": "code",
      "metadata": {
        "id": "xParIqQaQcU2",
        "outputId": "623ffc6a-adc1-40f0-d8db-a309ca9a7ff0",
        "colab": {
          "base_uri": "https://localhost:8080/"
        }
      },
      "source": [
        "n=4\n",
        "answ=\"Y\"\n",
        "print ((2<n) and (n<6))\n",
        "print ((2<n) or (n==6))\n",
        "print (not(2<n) or (n==6))\n",
        "print (not(n<6))\n",
        "print ((answ==\"Y\") or (answ==\"y\"))\n",
        "print ((answ==\"Y\") and (answ==\"y\"))\n",
        "print (not(answ==\"y\"))\n",
        "print ((2<n) and(n==5+1) or (answ==\"No\"))\n",
        "print ((n==2)and(n==7) or (answ==\"Y\"))\n",
        "print (n==2) and ((n==7) or (answ==\"Y\"))"
      ],
      "execution_count": 64,
      "outputs": [
        {
          "output_type": "stream",
          "name": "stdout",
          "text": [
            "True\n",
            "True\n",
            "False\n",
            "False\n",
            "True\n",
            "False\n",
            "True\n",
            "False\n",
            "True\n",
            "False\n"
          ]
        }
      ]
    },
    {
      "cell_type": "markdown",
      "metadata": {
        "id": "N4XKcifvUxPr"
      },
      "source": [
        "###Problem Statement 3"
      ]
    },
    {
      "cell_type": "code",
      "metadata": {
        "id": "MjNzWAjMU2Dz",
        "outputId": "570a9bf0-4ddf-4136-cf93-8708cf556542",
        "colab": {
          "base_uri": "https://localhost:8080/"
        }
      },
      "source": [
        "x = 2 \n",
        "y = -3 \n",
        "w = 7 \n",
        "z = -10\n",
        "print (x/y)\n",
        "print (w/y/x)\n",
        "print (z/y%x)\n",
        "print (x%-y*w)\n",
        "print (x%y)\n",
        "print (z%w-y/x*5+5)\n",
        "print (9-x%(2+y))\n",
        "print (z/w)\n",
        "print ((2+y)*2)\n",
        "print (w/x*2)"
      ],
      "execution_count": 72,
      "outputs": [
        {
          "output_type": "stream",
          "name": "stdout",
          "text": [
            "-0.6666666666666666\n",
            "-1.1666666666666667\n",
            "1.3333333333333335\n",
            "14\n",
            "-1\n",
            "16.5\n",
            "9\n",
            "-1.4285714285714286\n",
            "-2\n",
            "7.0\n"
          ]
        }
      ]
    }
  ]
}