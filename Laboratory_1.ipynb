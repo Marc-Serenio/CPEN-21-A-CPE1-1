{
  "nbformat": 4,
  "nbformat_minor": 0,
  "metadata": {
    "colab": {
      "name": "Laboratory 1",
      "provenance": [],
      "authorship_tag": "ABX9TyN4H5ED1POuU8ZpiL4kP1CC",
      "include_colab_link": true
    },
    "kernelspec": {
      "name": "python3",
      "display_name": "Python 3"
    },
    "language_info": {
      "name": "python"
    }
  },
  "cells": [
    {
      "cell_type": "markdown",
      "metadata": {
        "id": "view-in-github",
        "colab_type": "text"
      },
      "source": [
        "<a href=\"https://colab.research.google.com/github/Marc-Serenio/CPEN-21-A-CPE1-1/blob/main/Laboratory_1.ipynb\" target=\"_parent\"><img src=\"https://colab.research.google.com/assets/colab-badge.svg\" alt=\"Open In Colab\"/></a>"
      ]
    },
    {
      "cell_type": "markdown",
      "metadata": {
        "id": "cyDC7MwSkl2J"
      },
      "source": [
        "### **Welcome to Python Programming**"
      ]
    },
    {
      "cell_type": "code",
      "metadata": {
        "colab": {
          "base_uri": "https://localhost:8080/"
        },
        "id": "0uTiymw4kwJa",
        "outputId": "867b8700-708c-4a9e-b905-00dc84df359f"
      },
      "source": [
        "print(\"welcome to Python Programming\")"
      ],
      "execution_count": 2,
      "outputs": [
        {
          "output_type": "stream",
          "name": "stdout",
          "text": [
            "welcome to Python Programming\n"
          ]
        }
      ]
    },
    {
      "cell_type": "code",
      "metadata": {
        "id": "B6RPuLrJlxI8"
      },
      "source": [
        "name, age = \"Marc\", 19"
      ],
      "execution_count": 7,
      "outputs": []
    },
    {
      "cell_type": "code",
      "metadata": {
        "id": "0_d3Jo86l-1n"
      },
      "source": [
        "address = \"Brgy. Lumbreras GMA, Cavite\""
      ],
      "execution_count": 9,
      "outputs": []
    },
    {
      "cell_type": "code",
      "metadata": {
        "colab": {
          "base_uri": "https://localhost:8080/"
        },
        "id": "DYAgGHCemONW",
        "outputId": "0dfc71e4-176e-40a4-978e-2c32e543819f"
      },
      "source": [
        "print (\"Name: {}\\nAddress: {}\\nAge : {}\".format (name, address, age))"
      ],
      "execution_count": 17,
      "outputs": [
        {
          "output_type": "stream",
          "name": "stdout",
          "text": [
            "Name: Marc\n",
            "Address: Brgy. Lumbreras GMA, Cavite\n",
            "Age : 19\n"
          ]
        }
      ]
    }
  ]
}