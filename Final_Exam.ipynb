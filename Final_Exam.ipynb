{
  "nbformat": 4,
  "nbformat_minor": 0,
  "metadata": {
    "colab": {
      "name": "Final Exam.ipynb",
      "provenance": [],
      "collapsed_sections": [],
      "authorship_tag": "ABX9TyMmyT847jnnTaw6bDsQXiev",
      "include_colab_link": true
    },
    "kernelspec": {
      "name": "python3",
      "display_name": "Python 3"
    },
    "language_info": {
      "name": "python"
    }
  },
  "cells": [
    {
      "cell_type": "markdown",
      "metadata": {
        "id": "view-in-github",
        "colab_type": "text"
      },
      "source": [
        "<a href=\"https://colab.research.google.com/github/Marc-Serenio/CPEN-21-A-CPE1-1/blob/main/Final_Exam.ipynb\" target=\"_parent\"><img src=\"https://colab.research.google.com/assets/colab-badge.svg\" alt=\"Open In Colab\"/></a>"
      ]
    },
    {
      "cell_type": "markdown",
      "source": [
        "###PROBLEM STATEMENT 1"
      ],
      "metadata": {
        "id": "bgaELcf6jHwc"
      }
    },
    {
      "cell_type": "code",
      "source": [
        "sum = 0\n",
        "num = [-5,-4, -3, -2, -1, 0,1,2,3,4]\n",
        "for x in (num):\n",
        "  sum = sum + x\n",
        "print(\"The sum of 10 numbers lessthan 5 is\", sum)"
      ],
      "metadata": {
        "colab": {
          "base_uri": "https://localhost:8080/"
        },
        "id": "2B6tjlAqCbYw",
        "outputId": "a7c5de66-53df-4ede-fa4b-9b5b08388eff"
      },
      "execution_count": null,
      "outputs": [
        {
          "output_type": "stream",
          "name": "stdout",
          "text": [
            "The sum of 10 numbers lessthan 5 is -5\n"
          ]
        }
      ]
    },
    {
      "cell_type": "markdown",
      "source": [
        "###PROBLEM SATEMENT 2"
      ],
      "metadata": {
        "id": "1NYf1907jZlL"
      }
    },
    {
      "cell_type": "code",
      "source": [
        "arr =[]\n",
        "number = int(input(\"Enter number of elements:\\n\"))\n",
        "i = 0\n",
        "while (i!=number):\n",
        "  temp = int(input())\n",
        "  i=i+1\n",
        "  arr.append(temp)\n",
        "sum=arr[0]+arr[number-1] #adding numbers\n",
        "print(\"The sum of first and last number is\",sum)\n"
      ],
      "metadata": {
        "colab": {
          "base_uri": "https://localhost:8080/"
        },
        "id": "rxvCrBCjjv1x",
        "outputId": "7d81d878-d64b-4513-ca9e-b99932c19394"
      },
      "execution_count": 3,
      "outputs": [
        {
          "output_type": "stream",
          "name": "stdout",
          "text": [
            "Enter number of elements:\n",
            "5\n",
            "1\n",
            "2\n",
            "3\n",
            "4\n",
            "5\n",
            "The sum of first and last number is 6\n"
          ]
        }
      ]
    },
    {
      "cell_type": "markdown",
      "source": [
        "###PROBLEM STATEMENT 3"
      ],
      "metadata": {
        "id": "xRIaZOOGkCqR"
      }
    },
    {
      "cell_type": "code",
      "source": [
        "grade = int(input(\"Enter numerical grade:\"))\n",
        "if grade>=90:\n",
        "  print(\"Character  grade: A\")\n",
        "elif grade <= 89 and grade>80:\n",
        "  print(\"Character grade: B\")\n",
        "elif grade <= 79 and grade> 70:\n",
        "   print(\"Character grade: C\")\n",
        "elif grade <= 69 and grade> 60:\n",
        "   print(\"Character grade: D\")\n",
        "else:\n",
        "  print(\"Character grade: F\")"
      ],
      "metadata": {
        "colab": {
          "base_uri": "https://localhost:8080/"
        },
        "id": "8zdjnztv1SYA",
        "outputId": "66a116de-a9ef-436c-b9a5-667c14421da6"
      },
      "execution_count": 1,
      "outputs": [
        {
          "output_type": "stream",
          "name": "stdout",
          "text": [
            "Enter numerical grade:93\n",
            "Character  grade: A\n"
          ]
        }
      ]
    }
  ]
}